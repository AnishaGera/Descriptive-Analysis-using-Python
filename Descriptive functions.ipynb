{
 "cells": [
  {
   "cell_type": "code",
   "execution_count": 8,
   "metadata": {},
   "outputs": [],
   "source": [
    "import numpy as np"
   ]
  },
  {
   "cell_type": "code",
   "execution_count": 1,
   "metadata": {},
   "outputs": [],
   "source": [
    "#DESCRIPTIVE FUNCTIONS"
   ]
  },
  {
   "cell_type": "code",
   "execution_count": 2,
   "metadata": {},
   "outputs": [],
   "source": [
    "#MEAN"
   ]
  },
  {
   "cell_type": "code",
   "execution_count": 11,
   "metadata": {},
   "outputs": [
    {
     "name": "stdout",
     "output_type": "stream",
     "text": [
      "3\n",
      "6\n"
     ]
    },
    {
     "data": {
      "text/plain": [
       "3.5"
      ]
     },
     "execution_count": 11,
     "metadata": {},
     "output_type": "execute_result"
    }
   ],
   "source": [
    "lis=[5,4,3,2,1,6]\n",
    "print(lis[2])\n",
    "print(len(lis))\n",
    "def mean(lis):\n",
    "    sum=0\n",
    "    for i in range(len(lis)):\n",
    "        sum+=lis[i]\n",
    "    return sum/len(lis)\n",
    "mean(lis)"
   ]
  },
  {
   "cell_type": "code",
   "execution_count": 12,
   "metadata": {},
   "outputs": [],
   "source": [
    "#MEDIAN"
   ]
  },
  {
   "cell_type": "code",
   "execution_count": 13,
   "metadata": {},
   "outputs": [
    {
     "name": "stdout",
     "output_type": "stream",
     "text": [
      "[1, 2, 3, 4, 5, 6]\n"
     ]
    },
    {
     "data": {
      "text/plain": [
       "3.5"
      ]
     },
     "execution_count": 13,
     "metadata": {},
     "output_type": "execute_result"
    }
   ],
   "source": [
    "def median(lis):\n",
    "    lis.sort()\n",
    "    print(lis)\n",
    "    if len(lis)%2!=0:\n",
    "        n= int(((len(lis)+1)/2)-1)\n",
    "        print(n)\n",
    "        median=lis[n]\n",
    "    else:\n",
    "        n1=lis[int((len(lis)/2)-1)]\n",
    "        n2=lis[int(len(lis)/2)]\n",
    "        median=(n1+n2)/2\n",
    "        \n",
    "    return median\n",
    "median(lis)"
   ]
  },
  {
   "cell_type": "code",
   "execution_count": 31,
   "metadata": {},
   "outputs": [],
   "source": [
    "#MODE"
   ]
  },
  {
   "cell_type": "code",
   "execution_count": 80,
   "metadata": {},
   "outputs": [
    {
     "name": "stdout",
     "output_type": "stream",
     "text": [
      "2\n",
      "None\n",
      "{1: 1}\n",
      "{1: 1, 2: 1}\n",
      "{1: 1, 2: 1, 3: 1}\n",
      "{1: 1, 2: 1, 3: 1, 5: 1}\n",
      "{1: 1, 2: 1, 3: 2, 5: 1}\n",
      "{1: 1, 2: 2, 3: 2, 5: 1}\n",
      "{1: 1, 2: 2, 3: 2, 5: 1, 6: 1}\n",
      "{1: 1, 2: 2, 3: 3, 5: 1, 6: 1}\n",
      "{1: 1, 2: 2, 3: 3, 5: 1, 6: 1, 7: 1}\n",
      "{1: 1, 2: 3, 3: 3, 5: 1, 6: 1, 7: 1}\n",
      "{1: 1, 2: 3, 3: 3, 5: 1, 6: 1, 7: 2}\n",
      "{1: 1, 2: 3, 3: 4, 5: 1, 6: 1, 7: 2}\n",
      "{1: 1, 2: 4, 3: 4, 5: 1, 6: 1, 7: 2}\n",
      "{1: 1, 2: 4, 3: 4, 5: 1, 6: 1, 7: 3}\n",
      "{1: 1, 2: 4, 3: 4, 5: 1, 6: 1, 7: 3, 9: 1}\n",
      "{1: 1, 2: 4, 3: 4, 5: 1, 6: 1, 7: 3, 9: 1, 8: 1}\n",
      "{1: 1, 2: 4, 3: 4, 5: 1, 6: 1, 7: 4, 9: 1, 8: 1}\n",
      "{1: 1, 2: 4, 3: 4, 5: 1, 6: 1, 7: 4, 9: 2, 8: 1}\n",
      "{1: 1, 2: 4, 3: 4, 5: 1, 6: 1, 7: 4, 9: 2, 8: 1, 4: 1}\n",
      "4\n",
      "[2, 3, 7]\n"
     ]
    }
   ],
   "source": [
    "data=[1,2,3,5,3,2,6,3,7,2,7,3,2,7,9,8,7,9,4]\n",
    "#print(data[1])\n",
    "lis=[print(mode(data))]\n",
    "def mode1(data):\n",
    "    mod={}\n",
    "    for i in range(len(data)):\n",
    "        res=data[i]\n",
    "        if res in mod:\n",
    "            mod[res]+=1\n",
    "        else:\n",
    "            mod[res]=1\n",
    "        print(mod)\n",
    "        maxmod=max(mod.values())\n",
    "       # j=[k for k, v in mod.items() if v == maxmod]\n",
    "        \n",
    "    print(maxmod)\n",
    "    listofkeys=[]\n",
    "    for key, value in mod.items():\n",
    "        if value == maxmod:\n",
    "            listofkeys.append(key)\n",
    "    print(listofkeys)\n",
    "mode1(data)            \n",
    "            "
   ]
  },
  {
   "cell_type": "code",
   "execution_count": 82,
   "metadata": {},
   "outputs": [],
   "source": [
    "#STANDARD DEVIATION"
   ]
  },
  {
   "cell_type": "code",
   "execution_count": 101,
   "metadata": {},
   "outputs": [
    {
     "name": "stdout",
     "output_type": "stream",
     "text": [
      "199419.97126858158\n"
     ]
    },
    {
     "data": {
      "text/plain": [
       "194613.96450840315"
      ]
     },
     "execution_count": 101,
     "metadata": {},
     "output_type": "execute_result"
    }
   ],
   "source": [
    "import statistics\n",
    "data=[1,2,3,4,5,6,7,8,9,23,5,46,75,42,3,45,87876,543123,765245,51,456]\n",
    "print(statistics.stdev(data))\n",
    "def SD(data):\n",
    "    sd=0.0\n",
    "    for i in range(len(data)):\n",
    "        sd+=((data[i]-mean(data))**2)/len(data)\n",
    "    return (sd)**0.5\n",
    "SD(data)"
   ]
  },
  {
   "cell_type": "code",
   "execution_count": null,
   "metadata": {},
   "outputs": [],
   "source": [
    "# VARIANCE"
   ]
  },
  {
   "cell_type": "code",
   "execution_count": 5,
   "metadata": {},
   "outputs": [
    {
     "data": {
      "text/plain": [
       "37874595181.678"
      ]
     },
     "execution_count": 5,
     "metadata": {},
     "output_type": "execute_result"
    }
   ],
   "source": [
    "data=[1,2,3,4,5,6,7,8,9,23,5,46,75,42,3,45,87876,543123,765245,51,456]\n",
    "def mean(lis):\n",
    "    sum=0\n",
    "    for i in range(len(lis)):\n",
    "        sum+=lis[i]\n",
    "    return sum/len(lis)\n",
    "def SD(data):\n",
    "    sd=0.0\n",
    "    for i in range(len(data)):\n",
    "        sd+=((data[i]-mean(data))**2)/len(data)\n",
    "    return (sd)**0.5\n",
    "def variance(data):\n",
    "    var=(SD(data))**2\n",
    "    return var\n",
    "variance(data)"
   ]
  },
  {
   "cell_type": "code",
   "execution_count": 6,
   "metadata": {},
   "outputs": [],
   "source": [
    "# RANGE"
   ]
  },
  {
   "cell_type": "code",
   "execution_count": 30,
   "metadata": {},
   "outputs": [
    {
     "name": "stdout",
     "output_type": "stream",
     "text": [
      "[2, 2, 3, 5, 6, 7, 8, 9, 14, 23, 28, 34, 37, 45, 54, 56, 56, 62, 72]\n"
     ]
    },
    {
     "data": {
      "text/plain": [
       "70"
      ]
     },
     "execution_count": 30,
     "metadata": {},
     "output_type": "execute_result"
    }
   ],
   "source": [
    "data=[3,5,7,2,8,2,6,9,14,54,23,56,34,56,28,45,37,72,62]\n",
    "def get_range(data):\n",
    "    data.sort()\n",
    "    \n",
    "    print(data)\n",
    "    n=len(data)\n",
    "    Range=data[n-1]-data[0]\n",
    "    return Range\n",
    "get_range(data)"
   ]
  },
  {
   "cell_type": "code",
   "execution_count": 31,
   "metadata": {},
   "outputs": [],
   "source": [
    "# PERCENTILE"
   ]
  },
  {
   "cell_type": "code",
   "execution_count": 72,
   "metadata": {},
   "outputs": [
    {
     "name": "stdout",
     "output_type": "stream",
     "text": [
      "[2, 2, 3, 5, 6, 7, 8, 9, 14, 23, 28, 34, 37, 45, 54, 56, 56, 62, 72]\n",
      "15.2\n",
      "15\n"
     ]
    },
    {
     "data": {
      "text/plain": [
       "54"
      ]
     },
     "execution_count": 72,
     "metadata": {},
     "output_type": "execute_result"
    }
   ],
   "source": [
    "data=[3,5,7,2,8,2,6,9,14,54,23,56,34,56,28,45,37,72,62]\n",
    "\n",
    "def percent(data,p):\n",
    "    data.sort()\n",
    "    print(data)\n",
    "    index= ((len(data)*p)/100)\n",
    "    print(index)\n",
    "    if type(index)==float:\n",
    "        ind=round(index)\n",
    "        print(ind)\n",
    "        val_p=data[ind-1]\n",
    "    else:\n",
    "        val_p=data[index]\n",
    "    return val_p\n",
    "        \n",
    "percent(data,80)   \n",
    "    "
   ]
  },
  {
   "cell_type": "code",
   "execution_count": 73,
   "metadata": {},
   "outputs": [],
   "source": [
    "# QUARTILE"
   ]
  },
  {
   "cell_type": "code",
   "execution_count": 102,
   "metadata": {},
   "outputs": [
    {
     "name": "stdout",
     "output_type": "stream",
     "text": [
      "[1, 1, 8, 12, 13, 13, 14, 16, 19, 22, 27, 28, 31]\n",
      "6\n",
      "14\n",
      "6\n",
      "[1, 1, 8, 12, 13, 13, 14, 16, 19, 22, 27, 28, 31]\n",
      "[1, 1, 8, 12, 13, 13]\n",
      "10.0\n",
      "2\n",
      "[16, 19, 22, 27, 28, 31]\n",
      "24.5\n",
      "2\n"
     ]
    }
   ],
   "source": [
    "samples = [28, 12, 8, 27, 16, 31, 14, 13, 19, 1, 1, 22, 13]\n",
    "def median(lis):\n",
    "    lis.sort()\n",
    "    print(lis)\n",
    "    if len(lis)%2!=0:\n",
    "        n= int(((len(lis)+1)/2)-1)\n",
    "        print(n)\n",
    "        median=lis[n]\n",
    "        median_index=int(((len(lis)+1)/2)-1)\n",
    "    else:\n",
    "        n1=lis[int((len(lis)/2)-1)]\n",
    "        n2=lis[int(len(lis)/2)]\n",
    "        median=(n1+n2)/2\n",
    "        median_index=int((len(lis)/2)-1)\n",
    "        \n",
    "    return median,median_index\n",
    "Q2, Q2_index= median(samples)\n",
    "print(Q2)\n",
    "print(Q2_index)\n",
    "print(samples)\n",
    "Q1, Q1_index=median(samples[:Q2_index])\n",
    "print(Q1)\n",
    "print(Q1_index)\n",
    "Q3, Q3_index=median(samples[Q2_index+1:])\n",
    "print(Q3)\n",
    "print(Q3_index)"
   ]
  },
  {
   "cell_type": "code",
   "execution_count": 106,
   "metadata": {},
   "outputs": [
    {
     "name": "stdout",
     "output_type": "stream",
     "text": [
      "/Users/anisha/Desktop\n"
     ]
    }
   ],
   "source": [
    "cd Desktop"
   ]
  },
  {
   "cell_type": "code",
   "execution_count": 107,
   "metadata": {},
   "outputs": [
    {
     "name": "stdout",
     "output_type": "stream",
     "text": [
      "Iris.csv\r\n",
      "Iris.csv.numbers\r\n",
      "Pandas - Q1 Sales.csv\r\n",
      "data.csv\r\n"
     ]
    }
   ],
   "source": [
    "ls | grep csv"
   ]
  },
  {
   "cell_type": "code",
   "execution_count": 116,
   "metadata": {},
   "outputs": [],
   "source": [
    "import pandas as pd\n",
    "file=pd.read_csv(\"Iris.csv\")"
   ]
  },
  {
   "cell_type": "code",
   "execution_count": 117,
   "metadata": {},
   "outputs": [
    {
     "data": {
      "text/html": [
       "<div>\n",
       "<style scoped>\n",
       "    .dataframe tbody tr th:only-of-type {\n",
       "        vertical-align: middle;\n",
       "    }\n",
       "\n",
       "    .dataframe tbody tr th {\n",
       "        vertical-align: top;\n",
       "    }\n",
       "\n",
       "    .dataframe thead th {\n",
       "        text-align: right;\n",
       "    }\n",
       "</style>\n",
       "<table border=\"1\" class=\"dataframe\">\n",
       "  <thead>\n",
       "    <tr style=\"text-align: right;\">\n",
       "      <th></th>\n",
       "      <th>Id</th>\n",
       "      <th>SepalLengthCm</th>\n",
       "      <th>SepalWidthCm</th>\n",
       "      <th>PetalLengthCm</th>\n",
       "      <th>PetalWidthCm</th>\n",
       "      <th>Species</th>\n",
       "    </tr>\n",
       "  </thead>\n",
       "  <tbody>\n",
       "    <tr>\n",
       "      <td>0</td>\n",
       "      <td>1</td>\n",
       "      <td>5.1</td>\n",
       "      <td>3.5</td>\n",
       "      <td>1.4</td>\n",
       "      <td>0.2</td>\n",
       "      <td>Iris-setosa</td>\n",
       "    </tr>\n",
       "    <tr>\n",
       "      <td>1</td>\n",
       "      <td>2</td>\n",
       "      <td>4.9</td>\n",
       "      <td>3.0</td>\n",
       "      <td>1.4</td>\n",
       "      <td>0.2</td>\n",
       "      <td>Iris-setosa</td>\n",
       "    </tr>\n",
       "    <tr>\n",
       "      <td>2</td>\n",
       "      <td>3</td>\n",
       "      <td>4.7</td>\n",
       "      <td>3.2</td>\n",
       "      <td>1.3</td>\n",
       "      <td>0.2</td>\n",
       "      <td>Iris-setosa</td>\n",
       "    </tr>\n",
       "    <tr>\n",
       "      <td>3</td>\n",
       "      <td>4</td>\n",
       "      <td>4.6</td>\n",
       "      <td>3.1</td>\n",
       "      <td>1.5</td>\n",
       "      <td>0.2</td>\n",
       "      <td>Iris-setosa</td>\n",
       "    </tr>\n",
       "    <tr>\n",
       "      <td>4</td>\n",
       "      <td>5</td>\n",
       "      <td>5.0</td>\n",
       "      <td>3.6</td>\n",
       "      <td>1.4</td>\n",
       "      <td>0.2</td>\n",
       "      <td>Iris-setosa</td>\n",
       "    </tr>\n",
       "    <tr>\n",
       "      <td>...</td>\n",
       "      <td>...</td>\n",
       "      <td>...</td>\n",
       "      <td>...</td>\n",
       "      <td>...</td>\n",
       "      <td>...</td>\n",
       "      <td>...</td>\n",
       "    </tr>\n",
       "    <tr>\n",
       "      <td>145</td>\n",
       "      <td>146</td>\n",
       "      <td>6.7</td>\n",
       "      <td>3.0</td>\n",
       "      <td>5.2</td>\n",
       "      <td>2.3</td>\n",
       "      <td>Iris-virginica</td>\n",
       "    </tr>\n",
       "    <tr>\n",
       "      <td>146</td>\n",
       "      <td>147</td>\n",
       "      <td>6.3</td>\n",
       "      <td>2.5</td>\n",
       "      <td>5.0</td>\n",
       "      <td>1.9</td>\n",
       "      <td>Iris-virginica</td>\n",
       "    </tr>\n",
       "    <tr>\n",
       "      <td>147</td>\n",
       "      <td>148</td>\n",
       "      <td>6.5</td>\n",
       "      <td>3.0</td>\n",
       "      <td>5.2</td>\n",
       "      <td>2.0</td>\n",
       "      <td>Iris-virginica</td>\n",
       "    </tr>\n",
       "    <tr>\n",
       "      <td>148</td>\n",
       "      <td>149</td>\n",
       "      <td>6.2</td>\n",
       "      <td>3.4</td>\n",
       "      <td>5.4</td>\n",
       "      <td>2.3</td>\n",
       "      <td>Iris-virginica</td>\n",
       "    </tr>\n",
       "    <tr>\n",
       "      <td>149</td>\n",
       "      <td>150</td>\n",
       "      <td>5.9</td>\n",
       "      <td>3.0</td>\n",
       "      <td>5.1</td>\n",
       "      <td>1.8</td>\n",
       "      <td>Iris-virginica</td>\n",
       "    </tr>\n",
       "  </tbody>\n",
       "</table>\n",
       "<p>150 rows × 6 columns</p>\n",
       "</div>"
      ],
      "text/plain": [
       "      Id  SepalLengthCm  SepalWidthCm  PetalLengthCm  PetalWidthCm  \\\n",
       "0      1            5.1           3.5            1.4           0.2   \n",
       "1      2            4.9           3.0            1.4           0.2   \n",
       "2      3            4.7           3.2            1.3           0.2   \n",
       "3      4            4.6           3.1            1.5           0.2   \n",
       "4      5            5.0           3.6            1.4           0.2   \n",
       "..   ...            ...           ...            ...           ...   \n",
       "145  146            6.7           3.0            5.2           2.3   \n",
       "146  147            6.3           2.5            5.0           1.9   \n",
       "147  148            6.5           3.0            5.2           2.0   \n",
       "148  149            6.2           3.4            5.4           2.3   \n",
       "149  150            5.9           3.0            5.1           1.8   \n",
       "\n",
       "            Species  \n",
       "0       Iris-setosa  \n",
       "1       Iris-setosa  \n",
       "2       Iris-setosa  \n",
       "3       Iris-setosa  \n",
       "4       Iris-setosa  \n",
       "..              ...  \n",
       "145  Iris-virginica  \n",
       "146  Iris-virginica  \n",
       "147  Iris-virginica  \n",
       "148  Iris-virginica  \n",
       "149  Iris-virginica  \n",
       "\n",
       "[150 rows x 6 columns]"
      ]
     },
     "execution_count": 117,
     "metadata": {},
     "output_type": "execute_result"
    }
   ],
   "source": [
    "file"
   ]
  },
  {
   "cell_type": "code",
   "execution_count": null,
   "metadata": {},
   "outputs": [],
   "source": []
  }
 ],
 "metadata": {
  "kernelspec": {
   "display_name": "Python 3",
   "language": "python",
   "name": "python3"
  },
  "language_info": {
   "codemirror_mode": {
    "name": "ipython",
    "version": 3
   },
   "file_extension": ".py",
   "mimetype": "text/x-python",
   "name": "python",
   "nbconvert_exporter": "python",
   "pygments_lexer": "ipython3",
   "version": "3.7.4"
  }
 },
 "nbformat": 4,
 "nbformat_minor": 2
}
